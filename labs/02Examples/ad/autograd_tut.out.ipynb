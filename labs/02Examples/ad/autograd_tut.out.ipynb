{
  "cells": [
    {
      "cell_type": "markdown",
      "metadata": {},
      "source": [
        "# Autograd Tutorial\n",
        "\n",
        "References:\n",
        "\n",
        "-   R. Grosse’ NN and ML course:\n",
        "    https://www.cs.toronto.edu/~rgrosse/courses/csc321_2018/\n",
        "-   Backpropagation notes from Stanford’s CS231n:\n",
        "    http://cs231n.github.io/optimization-2/\n",
        "-   Autograd Github Repository (contains a tutorial and examples):\n",
        "    https://github.com/HIPS/autograd\n",
        "\n",
        "## Recall: Approaches for Computing Derivatives\n",
        "\n",
        "-   **Symbolic differentiation:** automatic manipulation of mathematical\n",
        "    expressions to get derivatives\n",
        "    -   Takes a math expression and returns a math expression:\n",
        "        $f(x) = x^2 \\rightarrow \\frac{df(x)}{dx} = 2x$\n",
        "    -   Used in Mathematica, Maple, Sympy, etc.\n",
        "-   **Numeric differentiation:** Approximating derivatives by finite\n",
        "    differences: $$\n",
        "    \\frac{\\partial}{\\partial x_i} f(x_1, \\dots, x_N) = \\lim_{h \\to 0} \\frac{f(x_1, \\dots, x_i + h, \\dots, x_N) - f(x_1, \\dots, x_i - h, \\dots, x_N)}{2h}\n",
        "    $$\n",
        "-   **Automatic differentiation:** Takes code that computes a function\n",
        "    and returns code that computes the derivative of that function.\n",
        "    -   Reverse Mode AD: A method to get exact derivatives efficiently,\n",
        "        by storing information as you go forward that you can reuse as\n",
        "        you go backwards\n",
        "    -   “The goal isn’t to obtain closed-form solutions, but to be able\n",
        "        to wirte a program that efficiently computes the derivatives.”\n",
        "    -   **Autograd**, **Torch Autograd**\n",
        "\n",
        "## Reverse Mode Automatic Differentiation\n",
        "\n",
        "In machine learning, we have functions that have large fan-in, e.g. a\n",
        "neural net can have millions of parameters, that all squeeze down to one\n",
        "scalar that tells you how well it predicts something. eg. cats…\n",
        "\n",
        "### General Idea for Implementation\n",
        "\n",
        "-   Create a “tape” data structure that tracks the operations performed\n",
        "    in computing a function\n",
        "-   Overload primitives to:\n",
        "    -   Add themselves to the tape when called\n",
        "    -   Compute gradients with respect to their local inputs\n",
        "-   *Forward pass* computes the function, and adds operations to the\n",
        "    tape\n",
        "-   *Reverse pass* accumulates the local gradients using the chain rule\n",
        "-   This is efficient for graphs with large fan-in, like most loss\n",
        "    functions in ML\n",
        "\n",
        "## Autograd\n",
        "\n",
        "-   [Autograd](https://github.com/HIPS/autograd) is a Python package for\n",
        "    automatic differentiation.\n",
        "-   To install Autograd: pip install autograd\n",
        "-   There are a lot of great\n",
        "    [examples](https://github.com/HIPS/autograd/tree/master/examples)\n",
        "    provided with the source code\n",
        "\n",
        "### What can Autograd do?\n",
        "\n",
        "From the Autograd Github repository:\n",
        "\n",
        "-   Autograd can automatically differentiate native Python and Numpy\n",
        "    code.\n",
        "-   It can handle a large subset of Python’s features, including loops,\n",
        "    conditional statements (if/else), recursion and closures\n",
        "-   It can also compute higher-order derivatives\n",
        "-   It uses reverse-mode differentiation (a.k.a. backpropagation) so it\n",
        "    can efficiently take gradients of scalar-valued functions with\n",
        "    respect to array-valued arguments.\n",
        "\n",
        "## Autograd Basic Usage"
      ],
      "id": "435acfbd-b0c3-4ab6-a9f1-5076fb989821"
    },
    {
      "cell_type": "code",
      "execution_count": 2,
      "metadata": {},
      "outputs": [],
      "source": [
        "import autograd.numpy as np # Import thinly-wrapped numpy\n",
        "from autograd import grad   # Basicallly the only function you need"
      ],
      "id": "cell-4"
    },
    {
      "cell_type": "code",
      "execution_count": 3,
      "metadata": {},
      "outputs": [
        {
          "output_type": "stream",
          "name": "stdout",
          "text": [
            "0.39322386648296376\n",
            "0.39322386636453377"
          ]
        }
      ],
      "source": [
        "# Define a function as usual, using Python and Numpy\n",
        "def tanh(x):\n",
        "    y = np.exp(-x)\n",
        "    return (1.0 - y) / (1.0 + y)\n",
        "\n",
        "# Create a *function* that computes the gradient of tanh\n",
        "grad_tanh = grad(tanh)\n",
        "\n",
        "# Evaluate the gradient at x = 1.0\n",
        "print(grad_tanh(1.0))\n",
        "\n",
        "# Compare to numeric gradient computed using finite differences\n",
        "print((tanh(1.0001) - tanh(0.9999)) / 0.0002)"
      ],
      "id": "cell-5"
    },
    {
      "cell_type": "markdown",
      "metadata": {},
      "source": [
        "## Autograd vs Manual Gradients via Staged Computation\n",
        "\n",
        "In this example, we will see how a complicated computation can be\n",
        "written as a composition of simpler functions, and how this provides a\n",
        "scalable strategy for computing gradients using the chain rule.\n",
        "\n",
        "We want to write a function to compute the gradient of the *sigmoid\n",
        "function*: $$\n",
        "\\sigma(x) = \\frac{1}{1 + e^{-x}}\n",
        "$$ We can write $\\sigma(x)$ as a composition of several elementary\n",
        "functions, as $\\sigma(x) = s(c(b(a(x))))$, where\n",
        "\n",
        "$$\n",
        "\\begin{align}\n",
        "a(x) &= -x \\\\\n",
        "b(a) & = e^a \\\\\n",
        "c(b) & = 1 + b \\\\\n",
        "s(c) = \\frac{1}{c}.\n",
        "\\end{align}\n",
        "$$\n",
        "\n",
        "Here, we have “staged” the computation such that it contains several\n",
        "intermediate variables, each of which are **basic expressions** for\n",
        "which we can easily compute the local gradients.\n",
        "\n",
        "The computation graph for this expression is\n",
        "\n",
        "$$ x \\longrightarrow a \\longrightarrow b \\longrightarrow c \\longrightarrow  s.$$\n",
        "\n",
        "The input to this function is $x$, and the output is represented by node\n",
        "$s$. We want to compute the gradient of $s$ with respect to $x$,\n",
        "$$\\frac{\\partial s}{\\partial x}.$$ In order to make use of our\n",
        "intermediate computations, we just use the chain rule, $$\n",
        "\\frac{\\partial s}{\\partial x} = \\frac{\\partial s}{\\partial c} \\frac{\\partial c}{\\partial b} \\frac{\\partial b}{\\partial a} \\frac{\\partial a}{\\partial x},\n",
        "$$ where we clearly observe the backward propagation of the gradients,\n",
        "from $s$ to $a.$\n",
        "\n",
        "> Given a vector-to-scalar function, $\\mathbb{R}^D \\to \\mathbb{R}$,\n",
        "> composed of a set of primitive functions\n",
        "> $\\mathbb{R}^M \\to \\mathbb{R}^N$ (for various $M$, $N$), the gradient\n",
        "> of the composition is given by the product of the gradients of the\n",
        "> primitive functions, according to the chain rule. But the chain rule\n",
        "> doesn’t prescribe the order in which to multiply the gradients. From\n",
        "> the perspective of computational complexity, the order makes all the\n",
        "> difference."
      ],
      "id": "7fbc6724-4023-4bed-8024-3056e8952152"
    },
    {
      "cell_type": "code",
      "execution_count": 4,
      "metadata": {},
      "outputs": [
        {
          "output_type": "stream",
          "name": "stdout",
          "text": [
            "0.1049935854035065\n",
            "0.1049935854035065"
          ]
        }
      ],
      "source": [
        "def grad_sigmoid_manual(x):\n",
        "    \"\"\"Implements the gradient of the logistic sigmoid function \n",
        "    $\\sigma(x) = 1 / (1 + e^{-x})$ using staged computation\n",
        "    \"\"\"\n",
        "    # Forward pass, keeping track of intermediate values for use in the \n",
        "    # backward pass\n",
        "    a = -x         # -x in denominator\n",
        "    b = np.exp(a)  # e^{-x} in denominator\n",
        "    c = 1 + b      # 1 + e^{-x} in denominator\n",
        "    s = 1.0 / c    # Final result: 1.0 / (1 + e^{-x})\n",
        "    \n",
        "    # Backward pass (differentiate basic functions)\n",
        "    dsdc = (-1.0 / (c**2))\n",
        "    dsdb = dsdc * 1\n",
        "    dsda = dsdb * np.exp(a)\n",
        "    dsdx = dsda * (-1)\n",
        "    \n",
        "    return dsdx\n",
        "\n",
        "\n",
        "def sigmoid(x):\n",
        "    y = 1.0 / (1.0 + np.exp(-x))\n",
        "    return y\n",
        "\n",
        "# Instead of writing grad_sigmoid_manual manually, we can use \n",
        "# Autograd's grad function:\n",
        "grad_sigmoid_automatic = grad(sigmoid)\n",
        "\n",
        "# Compare the results of manual and automatic gradient functions:\n",
        "print(grad_sigmoid_automatic(2.0))\n",
        "print(grad_sigmoid_manual(2.0))"
      ],
      "id": "cell-7"
    },
    {
      "cell_type": "markdown",
      "metadata": {},
      "source": [
        "## Gradient Functions\n",
        "\n",
        "There are several functions that compute gradients, which have different\n",
        "signatures\n",
        "\n",
        "-   `grad(fun, argnum=0)`\n",
        "    -   Returns a function which computes the gradient of `fun` with\n",
        "        respect to positional argument number `argnum`. The returned\n",
        "        function takes the same arguments as `fun`, but returns the\n",
        "        gradient instead. The function `fun` should be scalar-valued.\n",
        "        The gradient has the same type as the argument.\n",
        "-   `grad_named(fun, argname)`\n",
        "    -   Takes gradients with respect to a named argument.\n",
        "-   `multigrad(fun, argnums=[0])`\n",
        "    -   Takes gradients wrt multiple arguments simultaneously.\n",
        "-   `multigrad_dict(fun)`\n",
        "    -   Takes gradients with respect to all arguments simultaneously,\n",
        "        and returns a dict mapping `argname` to `gradval`\n",
        "\n",
        "## Modularity: Implementing Custom Gradients\n",
        "\n",
        "The implementation of Autograd is simple, readable, and extensible!\n",
        "\n",
        "One thing you can do is define custom gradients for your own functions.\n",
        "There are several reasons you might want to do this, including:\n",
        "\n",
        "1.  **Speed:** You may know a faster way to compute the gradient for a\n",
        "    specific function.\n",
        "2.  **Numerical Stability**\n",
        "3.  When your code depends on **external library calls**\n",
        "\n",
        "The `@primitive` decorator wraps a function so that its gradient can be\n",
        "specified manually and its invocation can be recorded."
      ],
      "id": "25960a9e-a14b-4227-9b10-c6cc7c229149"
    },
    {
      "cell_type": "code",
      "execution_count": 6,
      "metadata": {},
      "outputs": [],
      "source": [
        "import autograd.numpy as np\n",
        "import autograd.numpy.random as npr\n",
        "from autograd import grad\n",
        "from autograd.extend import primitive, defvjp\n",
        "\n",
        "# From the Autograd examples:\n",
        "# @primitive tells autograd not to look inside this function, but instead\n",
        "# to treat it as a black box, whose gradient might be specified later.\n",
        "@primitive\n",
        "def logsumexp(x):\n",
        "    \"\"\"Numerically stable log(sum(exp(x)))\"\"\"\n",
        "    max_x = np.max(x)\n",
        "    return max_x + np.log(np.sum(np.exp(x - max_x)))\n",
        "\n",
        "# Next, we write a function that specifies the gradient with a closure.\n",
        "def make_grad_logsumexp(ans, x):\n",
        "    # If you want to be able to take higher-order derivatives, then all the\n",
        "    # code inside this function must be itself differentiable by autograd.\n",
        "    def gradient_product(g):\n",
        "        return np.full(x.shape, g) * np.exp(x - np.full(x.shape, ans))\n",
        "    return gradient_product\n",
        "\n",
        "# Now we tell autograd that logsumexmp has a gradient-making function.\n",
        "defvjp(logsumexp, make_grad_logsumexp)"
      ],
      "id": "cell-10"
    },
    {
      "cell_type": "code",
      "execution_count": 7,
      "metadata": {},
      "outputs": [
        {
          "output_type": "stream",
          "name": "stdout",
          "text": [
            "Gradient:  [ 0.00445388 -0.06760237 -0.0030408  -0.00398812  0.13980291 -0.65753857\n",
            " -0.57149671 -0.0969613  -0.27697817  1.59207253]"
          ]
        }
      ],
      "source": [
        "# Now we can use logsumexp() inside a larger function that we want to differentiate.\n",
        "def example_func(y):\n",
        "    z = y**2\n",
        "    lse = logsumexp(z)\n",
        "    return np.sum(lse)\n",
        "\n",
        "grad_of_example = grad(example_func)\n",
        "print(\"Gradient: \", grad_of_example(npr.randn(10)))\n",
        "\n",
        "# Check the gradients numerically, just to be safe.\n",
        "# Fails if a mismatch occurs\n",
        "from autograd.test_util import check_grads\n",
        "check_grads(example_func, modes=['rev'], order=2)(npr.randn(10))"
      ],
      "id": "cell-11"
    },
    {
      "cell_type": "markdown",
      "metadata": {},
      "source": [
        "# Examples\n",
        "\n",
        "The next three sections of the notebook show examples of using Autograd\n",
        "in the context of three problems:\n",
        "\n",
        "1.  **1-D linear regression**, where we try to fit a model to a function\n",
        "    $y = wx + b$\n",
        "2.  **Linear regression using a polynomial feature map**, to fit a\n",
        "    function of the form $y = w_0 + w_1 x + w_2 x^2 + \\dots + w_M x^M$\n",
        "3.  **Nonlinear regression using a neural network**\n",
        "\n",
        "## Linear Regression\n",
        "\n",
        "### Review\n",
        "\n",
        "We are given a set of data points\n",
        "$\\{ (x_1, t_1), (x_2, t_2), \\dots, (x_N, t_N) \\}$, where each point\n",
        "$(x_i, t_i)$ consists of an *input value* $x_i$ and a *target value*\n",
        "$t_i$.\n",
        "\n",
        "The **model** we use is: $$\n",
        "y_i = wx_i + b\n",
        "$$\n",
        "\n",
        "We want each predicted value $y_i$ to be close to the ground truth value\n",
        "$t_i$. In linear regression, we use squared error to quantify the\n",
        "disagreement between $y_i$ and $t_i$. The **loss function** for a single\n",
        "example is: $$\n",
        "\\mathcal{L}(y_i,t_i) = \\frac{1}{2} (y_i - t_i)^2\n",
        "$$\n",
        "\n",
        "The **cost function** is the loss averaged over all the training\n",
        "examples: $$\n",
        "\\mathcal{E}(w,b) = \\frac{1}{N} \\sum_{i=1}^N \\mathcal{L}(y_i, t_i) = \\frac{1}{N} \\sum_{i=1}^N \\frac{1}{2} \\left(wx_i + b - t_i \\right)^2\n",
        "$$"
      ],
      "id": "126ebdc8-a8b2-4477-874c-35cb86d3f0bf"
    },
    {
      "cell_type": "code",
      "execution_count": 8,
      "metadata": {},
      "outputs": [],
      "source": [
        "import autograd.numpy as np # Import wrapped NumPy from Autograd\n",
        "import autograd.numpy.random as npr # For convenient access to numpy.random\n",
        "from autograd import grad # To compute gradients\n",
        "\n",
        "import matplotlib.pyplot as plt # For plotting\n",
        "\n",
        "%matplotlib inline"
      ],
      "id": "cell-15"
    },
    {
      "cell_type": "markdown",
      "metadata": {},
      "source": [
        "## Generate Synthetic Data\n",
        "\n",
        "We generate a synthetic dataset $\\{ (x_i, t_i) \\}$ by first taking the\n",
        "$x_i$ to be linearly spaced in the range $[0, 10]$ and generating the\n",
        "corresponding value of $t_i$ using the following equation (where $w = 4$\n",
        "and $b=10$): $$\n",
        "t_i = 4 x_i + 10 + \\epsilon\n",
        "$$\n",
        "\n",
        "Here, $\\epsilon \\sim \\mathcal{N}(0, 2),$ that is, $\\epsilon$ is drawn\n",
        "from a Gaussian distribution with mean 0 and variance 2. This introduces\n",
        "some random fluctuation in the data, to mimic real data that has an\n",
        "underlying regularity, but for which individual observations are\n",
        "corrupted by random noise."
      ],
      "id": "08f456d8-df91-4396-ba58-3c96fceddc6f"
    },
    {
      "cell_type": "code",
      "execution_count": 9,
      "metadata": {},
      "outputs": [
        {
          "output_type": "display_data",
          "metadata": {},
          "data": {
            "image/png": "[encoded data removed]"
          }
        }
      ],
      "source": [
        "# In our synthetic data, we have w = 4 and b = 10\n",
        "N = 100 # Number of training data points\n",
        "x = np.linspace(0, 10, N)\n",
        "t = 4 * x + 10 + npr.normal(0, 2, x.shape[0])\n",
        "plt.plot(x, t, 'r.')"
      ],
      "id": "cell-18"
    },
    {
      "cell_type": "code",
      "execution_count": 10,
      "metadata": {},
      "outputs": [
        {
          "output_type": "stream",
          "name": "stdout",
          "text": [
            "{'w': 4.084961144270687, 'b': 9.264915086528749}"
          ]
        }
      ],
      "source": [
        "# Initialize random parameters\n",
        "w = npr.normal(0, 1)\n",
        "b = npr.normal(0, 1)\n",
        "params = { 'w': w, 'b': b } # One option: aggregate parameters in a dictionary\n",
        "\n",
        "def cost(params):\n",
        "    y = params['w'] * x + params['b']\n",
        "    return (1 / N) * np.sum(0.5 * np.square(y - t))\n",
        "\n",
        "# Find the gradient of the cost function using Autograd\n",
        "grad_cost = grad(cost) \n",
        "\n",
        "num_epochs = 1000  # Number of epochs of training\n",
        "alpha = 0.01       # Learning rate\n",
        "\n",
        "for i in range(num_epochs):\n",
        "    # Evaluate the gradient of the current parameters stored in params\n",
        "    cost_params = grad_cost(params)\n",
        "    \n",
        "    # Update parameters w and b\n",
        "    params['w'] = params['w'] - alpha * cost_params['w']\n",
        "    params['b'] = params['b'] - alpha * cost_params['b']\n",
        "\n",
        "print(params)"
      ],
      "id": "cell-19"
    },
    {
      "cell_type": "code",
      "execution_count": 11,
      "metadata": {},
      "outputs": [
        {
          "output_type": "display_data",
          "metadata": {},
          "data": {
            "image/png": "[encoded data removed]"
          }
        }
      ],
      "source": [
        "# Plot the training data, together with the line defined by y = wx + b,\n",
        "# where w and b are our final learned parameters\n",
        "plt.plot(x, t, 'r.')\n",
        "plt.plot([0, 10], [params['b'], params['w'] * 10 + params['b']], 'b-')\n",
        "plt.show()"
      ],
      "id": "cell-20"
    },
    {
      "cell_type": "markdown",
      "metadata": {},
      "source": [
        "## Linear Regression with a Feature Mapping\n",
        "\n",
        "In this example we will fit a polynomial using linear regression with a\n",
        "polynomial feature mapping. The target function is\n",
        "\n",
        "$$\n",
        "t = x^4 - 10 x^2 + 10 x + \\epsilon,\n",
        "$$\n",
        "\n",
        "where $\\epsilon \\sim \\mathcal{N}(0, 4).$\n",
        "\n",
        "This is an example of a *generalized linear model*, in which we perform\n",
        "a fixed nonlinear transformation of the inputs\n",
        "$\\mathbf{x} = (x_1, x_2, \\dots, x_D)$, and the model is still linear in\n",
        "the *parameters*. We can define a set of *feature mappings* (also called\n",
        "feature functions or basis functions) $\\phi$ to implement the fixed\n",
        "transformations.\n",
        "\n",
        "In this case, we have $x \\in \\mathbb{R}$, and we define the feature\n",
        "mapping: $$\n",
        "\\mathbf{\\phi}(x) = \\begin{pmatrix}\\phi_1(x) \\\\ \\phi_2(x) \\\\ \\phi_3(x) \\\\ \\phi_4(x) \\end{pmatrix} = \\begin{pmatrix}1\\\\x\\\\x^2\\\\x^3\\end{pmatrix}\n",
        "$$"
      ],
      "id": "37412a6b-2abd-4fac-a0d5-675e5c5eb81b"
    },
    {
      "cell_type": "code",
      "execution_count": 12,
      "metadata": {},
      "outputs": [
        {
          "output_type": "display_data",
          "metadata": {},
          "data": {
            "image/png": "[encoded data removed]"
          }
        }
      ],
      "source": [
        "# Generate synthetic data\n",
        "N = 100 # Number of data points\n",
        "x = np.linspace(-3, 3, N) # Generate N values linearly-spaced between -3 and 3\n",
        "t = x ** 4 - 10 * x ** 2 + 10 * x + npr.normal(0, 4, x.shape[0]) # Generate corresponding targets\n",
        "plt.plot(x, t, 'r.') # Plot data points"
      ],
      "id": "cell-23"
    },
    {
      "cell_type": "code",
      "execution_count": 13,
      "metadata": {},
      "outputs": [
        {
          "output_type": "stream",
          "name": "stdout",
          "text": [
            "[  0.0545782   10.42891793 -10.10707337  -0.03126282   1.02186303]"
          ]
        }
      ],
      "source": [
        "M = 4 # Degree of polynomial to fit to the data (this is a hyperparameter)\n",
        "feature_matrix = np.array([[item ** i for i in range(M+1)] for item in x]) # Construct a feature matrix \n",
        "W = npr.randn(feature_matrix.shape[-1])\n",
        "\n",
        "def cost(W):\n",
        "    y = np.dot(feature_matrix, W)\n",
        "    return (1.0 / N) * np.sum(0.5 * np.square(y - t))\n",
        "\n",
        "# Compute the gradient of the cost function using Autograd\n",
        "cost_grad = grad(cost)\n",
        "\n",
        "num_epochs = 10000\n",
        "learning_rate = 0.001\n",
        "\n",
        "# Manually implement gradient descent\n",
        "for i in range(num_epochs):\n",
        "    W = W - learning_rate * cost_grad(W)\n",
        "\n",
        "# Print the final learned parameters.\n",
        "print(W)"
      ],
      "id": "cell-24"
    },
    {
      "cell_type": "code",
      "execution_count": 15,
      "metadata": {},
      "outputs": [
        {
          "output_type": "display_data",
          "metadata": {},
          "data": {
            "image/png": "[encoded data removed]"
          }
        }
      ],
      "source": [
        "# Plot the original training data again, together with the polynomial we fit\n",
        "plt.plot(x, t, 'r.')\n",
        "plt.plot(x, np.dot(feature_matrix, W), 'b-')\n",
        "plt.show()"
      ],
      "id": "cell-25"
    },
    {
      "cell_type": "markdown",
      "metadata": {},
      "source": [
        "## Neural Net Regression\n",
        "\n",
        "In this example we will implement a (nonlinear) regression model using a\n",
        "neural network.\n",
        "\n",
        "To implement and train a neural net using Autograd, you only have to\n",
        "define the forward pass of the network and the loss function you wish to\n",
        "use; you do *not* need to implement the *backward pass* of the network.\n",
        "When you take the gradient of the loss function using `grad`, Autograd\n",
        "automatically computes the backward pass. It essentially executes the\n",
        "backpropagation algorithm implicitly."
      ],
      "id": "a19a9cf6-c6b9-492a-8c0e-75e634b9df41"
    },
    {
      "cell_type": "code",
      "execution_count": 16,
      "metadata": {},
      "outputs": [],
      "source": [
        "import matplotlib.pyplot as plt\n",
        "\n",
        "import autograd.numpy as np\n",
        "import autograd.numpy.random as npr\n",
        "from autograd import grad\n",
        "from autograd.misc import flatten #, flatten_func\n",
        "\n",
        "from autograd.misc.optimizers import sgd\n",
        "\n",
        "%matplotlib inline"
      ],
      "id": "cell-28"
    },
    {
      "cell_type": "markdown",
      "metadata": {},
      "source": [
        "### Autograd Implementation of Stochastic Gradient Descent (with momentum)\n",
        "\n",
        "    def sgd(grad, init_params, callback=None, num_iters=200, step_size=0.1, mass=0.9):\n",
        "        \"\"\"Stochastic gradient descent with momentum.\n",
        "        grad() must have signature grad(x, i), where i is the iteration number.\"\"\"\n",
        "        flattened_grad, unflatten, x = flatten_func(grad, init_params)\n",
        "        \n",
        "        velocity = np.zeros(len(x))\n",
        "        for i in range(num_iters):\n",
        "            g = flattened_grad(x, i)\n",
        "            if callback:\n",
        "                callback(unflatten(x), i, unflatten(g))\n",
        "            velocity = mass * velocity - (1.0 - mass) * g\n",
        "            x = x + step_size * velocity\n",
        "        return unflatten(x)\n",
        "\n",
        "The next example shows how to use the `sgd` function."
      ],
      "id": "37e437d5-a3f6-4f0c-b643-1a7c493848a8"
    },
    {
      "cell_type": "code",
      "execution_count": 17,
      "metadata": {},
      "outputs": [
        {
          "output_type": "display_data",
          "metadata": {},
          "data": {
            "image/png": "[encoded data removed]"
          }
        }
      ],
      "source": [
        "# Generate synthetic data\n",
        "x = np.linspace(-5, 5, 1000)\n",
        "t = x ** 3 - 20 * x + 10 + npr.normal(0, 4, x.shape[0])\n",
        "plt.plot(x, t, 'r.')"
      ],
      "id": "cell-30"
    },
    {
      "cell_type": "code",
      "execution_count": 23,
      "metadata": {},
      "outputs": [
        {
          "output_type": "stream",
          "name": "stdout",
          "text": [
            "307.27526955036535\n",
            "{'W1': array([[-2.94559997,  0.16121652, -1.30047875, -1.22974889]]), 'b1': array([-5.28166397, -0.82528464,  2.41753918,  6.14589224]), 'W2': array([[-5.05168877e-01, -2.36611718e+00, -3.27880077e+00,\n",
            "         2.75007753e+00],\n",
            "       [-1.92904027e-01, -2.37367667e-01, -4.65899580e-01,\n",
            "        -1.92235478e+00],\n",
            "       [ 4.09549644e-01, -2.22665262e+00,  1.40462107e+00,\n",
            "         2.85735187e-03],\n",
            "       [-3.72648981e+00,  2.46773804e+00,  1.86232133e+00,\n",
            "        -1.55498882e+00]]), 'b2': array([ 5.30739445,  0.42395663, -4.68675653, -2.42712697]), 'W3': array([[ 6.08166514],\n",
            "       [-3.52731677],\n",
            "       [ 4.50279179],\n",
            "       [-3.36406041]]), 'b3': array([0.11658614])}\n",
            "8.641052001438881"
          ]
        },
        {
          "output_type": "display_data",
          "metadata": {},
          "data": {
            "image/png": "[encoded data removed]"
          }
        }
      ],
      "source": [
        "inputs = x.reshape(x.shape[-1],1)\n",
        "W1 = npr.randn(1,4)\n",
        "b1 = npr.randn(4)\n",
        "W2 = npr.randn(4,4)\n",
        "b2 = npr.randn(4)\n",
        "W3 = npr.randn(4,1)\n",
        "b3 = npr.randn(1)\n",
        "\n",
        "params = { 'W1': W1, 'b1': b1, 'W2': W2, 'b2': b2, 'W3': W3, 'b3': b3 }\n",
        "\n",
        "def relu(x):\n",
        "    return np.maximum(0, x)\n",
        "\n",
        "#nonlinearity = np.tanh\n",
        "nonlinearity = relu\n",
        "\n",
        "def predict(params, inputs):\n",
        "    h1 = nonlinearity(np.dot(inputs, params['W1']) + params['b1'])\n",
        "    h2 = nonlinearity(np.dot(h1, params['W2']) + params['b2'])\n",
        "    output = np.dot(h2, params['W3']) + params['b3']\n",
        "    return output\n",
        "\n",
        "def loss(params, i):\n",
        "    output = predict(params, inputs)\n",
        "    return (1.0 / inputs.shape[0]) * np.sum(0.5 * np.square(output.reshape(output.shape[0]) - t))\n",
        "\n",
        "print(loss(params, 0))\n",
        "\n",
        "optimized_params = sgd(grad(loss), params, step_size=0.01, num_iters=5000)\n",
        "print(optimized_params)\n",
        "print(loss(optimized_params, 0))\n",
        "\n",
        "final_y = predict(optimized_params, inputs)\n",
        "plt.plot(x, t, 'r.')\n",
        "plt.plot(x, final_y, 'b-')\n",
        "plt.show()"
      ],
      "id": "cell-31"
    },
    {
      "cell_type": "code",
      "execution_count": 19,
      "metadata": {
        "scrolled": true
      },
      "outputs": [
        {
          "output_type": "display_data",
          "metadata": {},
          "data": {
            "image/png": "[encoded data removed]"
          }
        }
      ],
      "source": [
        "# A plot of the result of this model using tanh activations\n",
        "plt.plot(x, final_y, 'b-')\n",
        "plt.show()"
      ],
      "id": "cell-32"
    },
    {
      "cell_type": "code",
      "execution_count": 24,
      "metadata": {
        "scrolled": false
      },
      "outputs": [
        {
          "output_type": "display_data",
          "metadata": {},
          "data": {
            "image/png": "[encoded data removed]"
          }
        }
      ],
      "source": [
        "# A plot of the result of this model using ReLU activations\n",
        "plt.plot(x, final_y, 'b-')\n",
        "plt.show()"
      ],
      "id": "cell-33"
    }
  ],
  "nbformat": 4,
  "nbformat_minor": 5,
  "metadata": {
    "kernelspec": {
      "name": "python3",
      "display_name": "Python 3 (ipykernel)",
      "language": "python"
    },
    "language_info": {
      "name": "python",
      "codemirror_mode": {
        "name": "ipython",
        "version": "3"
      },
      "file_extension": ".py",
      "mimetype": "text/x-python",
      "nbconvert_exporter": "python",
      "pygments_lexer": "ipython3",
      "version": "3.10.9"
    }
  }
}