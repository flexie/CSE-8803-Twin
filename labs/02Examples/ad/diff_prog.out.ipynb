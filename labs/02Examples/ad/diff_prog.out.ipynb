{
  "cells": [
    {
      "cell_type": "markdown",
      "metadata": {},
      "source": [
        "# Differentiable Programming 101\n",
        "\n",
        "# Differentiable Programming 101\n",
        "\n",
        "We study some initial examples of\n",
        "\n",
        "-   numerical differentiation\n",
        "-   symbolic differentiation\n",
        "-   automatic differentiation\n",
        "\n",
        "# Numerical Differentiation\n",
        "\n",
        "Consider the sine function and its derivative,\n",
        "\n",
        "$$ f(x) = \\sin(x), \\quad f'(x)=\\cos (x) $$\n",
        "\n",
        "evaluated at the point $x = 0.1.$"
      ],
      "id": "6c5320e9-9e24-4c7e-b1e3-222f0d6d7210"
    },
    {
      "cell_type": "code",
      "execution_count": 1,
      "metadata": {},
      "outputs": [
        {
          "output_type": "stream",
          "name": "stdout",
          "text": [
            "True derivative: 0.9950041652780258\n",
            "Forward Difference  Error           Central Difference  Error\n",
            "\n",
            "7.91374e-01     2.03630e-01     8.37267e-01     1.57737e-01\n",
            "9.88359e-01     6.64502e-03     9.93347e-01     1.65751e-03\n",
            "9.94488e-01     5.15746e-04     9.94988e-01     1.65833e-05\n",
            "9.94954e-01     5.00825e-05     9.95004e-01     1.65834e-07\n",
            "9.94999e-01     4.99333e-06     9.95004e-01     1.65828e-09\n",
            "9.95004e-01     4.99183e-07     9.95004e-01     1.66720e-11\n",
            "9.95004e-01     4.99136e-08     9.95004e-01     2.10021e-12\n",
            "9.95004e-01     4.96341e-09     9.95004e-01     3.25943e-11\n",
            "9.95004e-01     1.06184e-10     9.95004e-01     1.06184e-10\n",
            "9.95004e-01     2.88174e-09     9.95004e-01     2.88174e-09"
          ]
        }
      ],
      "source": [
        "import numpy as np\n",
        "f = lambda x: np.sin(x)\n",
        "x0 = 0.1\n",
        "exact = np.cos(x0)\n",
        "print(\"True derivative:\", exact)\n",
        "print(\"Forward Difference\\tError\\t\\t\\tCentral Difference\\tError\\n\")\n",
        "for i in range(10):\n",
        "    h = 1/(10**i)\n",
        "    f1 = (f(x0+h)-f(x0))/h\n",
        "    f2 = (f(x0+h)-f(x0-h))/(2*h)\n",
        "    e1 = np.abs(f1 - exact)\n",
        "    e2 = np.abs(f2 - exact)\n",
        "    print('%.5e\\t\\t%.5e\\t\\t%.5e\\t\\t%.5e'%(f1,e1,f2,e2))"
      ],
      "id": "6904b9f9"
    },
    {
      "cell_type": "markdown",
      "metadata": {},
      "source": [
        "# Symbolic Differentiation\n",
        "\n",
        "Though very useful in simple cases, symbolic differentiation often leads\n",
        "to complex and redundant expressions. In addition, balckbox routines\n",
        "cannot be differentiated."
      ],
      "id": "572c0473-32b5-4ca7-8cd8-01947c09e2ac"
    },
    {
      "cell_type": "code",
      "execution_count": 2,
      "metadata": {},
      "outputs": [],
      "source": [
        "from sympy import *\n",
        "x = symbols('x')\n",
        "#\n",
        "diff(cos(x), x)"
      ],
      "id": "1b8ef899"
    },
    {
      "cell_type": "code",
      "execution_count": 3,
      "metadata": {},
      "outputs": [],
      "source": [
        "# a more complicated esxpression\n",
        "def sigmoid(x):\n",
        "  return 1 / (1 + exp(-x))\n",
        "\n",
        "diff(sigmoid(x),x)"
      ],
      "id": "3cd0c5d3"
    },
    {
      "cell_type": "markdown",
      "metadata": {},
      "source": [
        "Note that the derivative of $$ \\sigma(x) = \\frac{1}{1+e^{-x}}$$ can be\n",
        "simply written as $$ \\frac{d\\sigma }{dx}= (1-\\sigma(x)) \\sigma(x)$$"
      ],
      "id": "9f670e07-a948-4efc-b2f4-1fe19cd28f17"
    },
    {
      "cell_type": "code",
      "execution_count": 4,
      "metadata": {},
      "outputs": [],
      "source": [
        "# much more complicated\n",
        "x,w1,w2,w3,b1,b2,b3 = symbols('x w1 w2 w3 b1 b2 b3')\n",
        "y = w3*sigmoid(w2*sigmoid(w1*x + b1) + b2) + b3\n",
        "diff(y, w1)"
      ],
      "id": "3486a473"
    },
    {
      "cell_type": "code",
      "execution_count": 5,
      "metadata": {},
      "outputs": [
        {
          "output_type": "stream",
          "name": "stdout",
          "text": [
            "w2*w3*x*exp(-b1 - w1*x)*exp(-b2 - w2/(exp(-b1 - w1*x) + 1))/((exp(-b1 - w1*x) + 1)**2*(exp(-b2 - w2/(exp(-b1 - w1*x) + 1)) + 1)**2)"
          ]
        }
      ],
      "source": [
        "dydw1 = diff(y, w1)\n",
        "print(dydw1)"
      ],
      "id": "34f6d86b"
    },
    {
      "cell_type": "markdown",
      "metadata": {},
      "source": [
        "# Automatic Differentiation\n",
        "\n",
        "Here we show the simplicity and efficiency of `autograd` from `numpy`."
      ],
      "id": "fc30f566-54a5-4746-84a4-d0b9ed30a243"
    },
    {
      "cell_type": "code",
      "execution_count": 6,
      "metadata": {},
      "outputs": [
        {
          "output_type": "display_data",
          "metadata": {},
          "data": {
            "image/png": "[encoded data removed]"
          }
        }
      ],
      "source": [
        "import autograd.numpy as np\n",
        "import matplotlib.pyplot as plt\n",
        "from autograd import elementwise_grad as egrad  # for functions that vectorize over inputs\n",
        "\n",
        "# We could use np.tanh, but let's write our own as an example.\n",
        "def tanh(x):\n",
        "    return (1.0 - np.exp(-x))  / (1.0 + np.exp(-x))\n",
        "\n",
        "x = np.linspace(-7, 7, 200)\n",
        "plt.plot(x, tanh(x),\n",
        "         x, egrad(tanh)(x),                                # first  derivative\n",
        "         x, egrad(egrad(tanh))(x),                          # second derivative\n",
        "         x, egrad(egrad(egrad(tanh)))(x),                    # third  derivative\n",
        "         x, egrad(egrad(egrad(egrad(tanh))))(x),              # fourth derivative\n",
        "         x, egrad(egrad(egrad(egrad(egrad(tanh)))))(x),        # fifth  derivative\n",
        "         x, egrad(egrad(egrad(egrad(egrad(egrad(tanh))))))(x))  # sixth  derivative\n",
        "\n",
        "plt.axis('off')\n",
        "plt.savefig(\"tanh.png\")\n",
        "plt.show()"
      ],
      "id": "e0189094"
    },
    {
      "cell_type": "code",
      "execution_count": 7,
      "metadata": {},
      "outputs": [
        {
          "output_type": "stream",
          "name": "stdout",
          "text": [
            "0.39322386648296376 0.3932226889551027"
          ]
        }
      ],
      "source": [
        "from autograd import grad\n",
        "grad_tanh = grad(tanh)            # Obtain its gradient function\n",
        "gA = grad_tanh(1.0)               # Evaluate the gradient at x = 1.0\n",
        "gN = (tanh(1.01) - tanh(0.99)) / 0.02  # Compare to finite differences\n",
        "print(gA, gN)"
      ],
      "id": "020ad74d"
    }
  ],
  "nbformat": 4,
  "nbformat_minor": 5,
  "metadata": {
    "kernelspec": {
      "name": "python3",
      "display_name": "Python 3 (ipykernel)",
      "language": "python"
    },
    "language_info": {
      "name": "python",
      "codemirror_mode": {
        "name": "ipython",
        "version": "3"
      },
      "file_extension": ".py",
      "mimetype": "text/x-python",
      "nbconvert_exporter": "python",
      "pygments_lexer": "ipython3",
      "version": "3.10.9"
    }
  }
}