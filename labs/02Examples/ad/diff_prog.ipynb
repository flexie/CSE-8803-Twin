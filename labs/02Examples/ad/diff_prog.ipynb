{
 "cells": [
  {
   "cell_type": "markdown",
   "id": "5b7e5a9f",
   "metadata": {},
   "source": [
    "# Differentiable Programming 101\n",
    "\n",
    "We study some initial examples of \n",
    "\n",
    "- numerical differentiation\n",
    "- symbolic differentiation\n",
    "- automatic differentiation"
   ]
  },
  {
   "cell_type": "markdown",
   "id": "d89ecd9b",
   "metadata": {},
   "source": [
    "# Numerical Differentiation\n",
    "\n",
    "Consider the sine function and its derivative,\n",
    "\n",
    "$$ f(x) = \\sin(x), \\quad f'(x)=\\cos (x) $$\n",
    "\n",
    "evaluated at the point $x = 0.1.$\n"
   ]
  },
  {
   "cell_type": "code",
   "execution_count": 1,
   "id": "6904b9f9",
   "metadata": {},
   "outputs": [
    {
     "name": "stdout",
     "output_type": "stream",
     "text": [
      "True derivative: 0.9950041652780258\n",
      "Forward Difference\tError\t\t\tCentral Difference\tError\n",
      "\n",
      "7.91374e-01\t\t2.03630e-01\t\t8.37267e-01\t\t1.57737e-01\n",
      "9.88359e-01\t\t6.64502e-03\t\t9.93347e-01\t\t1.65751e-03\n",
      "9.94488e-01\t\t5.15746e-04\t\t9.94988e-01\t\t1.65833e-05\n",
      "9.94954e-01\t\t5.00825e-05\t\t9.95004e-01\t\t1.65834e-07\n",
      "9.94999e-01\t\t4.99333e-06\t\t9.95004e-01\t\t1.65828e-09\n",
      "9.95004e-01\t\t4.99183e-07\t\t9.95004e-01\t\t1.66720e-11\n",
      "9.95004e-01\t\t4.99136e-08\t\t9.95004e-01\t\t2.10021e-12\n",
      "9.95004e-01\t\t4.96341e-09\t\t9.95004e-01\t\t3.25943e-11\n",
      "9.95004e-01\t\t1.06184e-10\t\t9.95004e-01\t\t1.06184e-10\n",
      "9.95004e-01\t\t2.88174e-09\t\t9.95004e-01\t\t2.88174e-09\n"
     ]
    }
   ],
   "source": [
    "import numpy as np\n",
    "f = lambda x: np.sin(x)\n",
    "x0 = 0.1\n",
    "exact = np.cos(x0)\n",
    "print(\"True derivative:\", exact)\n",
    "print(\"Forward Difference\\tError\\t\\t\\tCentral Difference\\tError\\n\")\n",
    "for i in range(10):\n",
    "    h = 1/(10**i)\n",
    "    f1 = (f(x0+h)-f(x0))/h\n",
    "    f2 = (f(x0+h)-f(x0-h))/(2*h)\n",
    "    e1 = np.abs(f1 - exact)\n",
    "    e2 = np.abs(f2 - exact)\n",
    "    print('%.5e\\t\\t%.5e\\t\\t%.5e\\t\\t%.5e'%(f1,e1,f2,e2))"
   ]
  },
  {
   "cell_type": "markdown",
   "id": "099e5fdb",
   "metadata": {},
   "source": [
    "# Symbolic Differentiation\n",
    "\n",
    "Though very useful in simple cases, symbolic differentiation often leads to complex and redundant expressions. In addition, balckbox routines cannot be differentiated."
   ]
  },
  {
   "cell_type": "code",
   "execution_count": 2,
   "id": "1b8ef899",
   "metadata": {},
   "outputs": [
    {
     "data": {
      "text/latex": [
       "$\\displaystyle - \\sin{\\left(x \\right)}$"
      ],
      "text/plain": [
       "-sin(x)"
      ]
     },
     "execution_count": 2,
     "metadata": {},
     "output_type": "execute_result"
    }
   ],
   "source": [
    "from sympy import *\n",
    "x = symbols('x')\n",
    "#\n",
    "diff(cos(x), x)"
   ]
  },
  {
   "cell_type": "code",
   "execution_count": 3,
   "id": "3cd0c5d3",
   "metadata": {},
   "outputs": [
    {
     "data": {
      "text/latex": [
       "$\\displaystyle \\frac{e^{- x}}{\\left(1 + e^{- x}\\right)^{2}}$"
      ],
      "text/plain": [
       "exp(-x)/(1 + exp(-x))**2"
      ]
     },
     "execution_count": 3,
     "metadata": {},
     "output_type": "execute_result"
    }
   ],
   "source": [
    "# a more complicated esxpression\n",
    "def sigmoid(x):\n",
    "  return 1 / (1 + exp(-x))\n",
    "\n",
    "diff(sigmoid(x),x)"
   ]
  },
  {
   "cell_type": "markdown",
   "id": "796f1d66",
   "metadata": {},
   "source": [
    "Note that the derivative of \n",
    "$$ \\sigma(x) = \\frac{1}{1+e^{-x}}$$\n",
    "can be simply written as \n",
    "$$ \\frac{d\\sigma }{dx}= (1-\\sigma(x)) \\sigma(x)$$"
   ]
  },
  {
   "cell_type": "code",
   "execution_count": 4,
   "id": "3486a473",
   "metadata": {},
   "outputs": [
    {
     "data": {
      "text/latex": [
       "$\\displaystyle \\frac{w_{2} w_{3} x e^{- b_{1} - w_{1} x} e^{- b_{2} - \\frac{w_{2}}{e^{- b_{1} - w_{1} x} + 1}}}{\\left(e^{- b_{1} - w_{1} x} + 1\\right)^{2} \\left(e^{- b_{2} - \\frac{w_{2}}{e^{- b_{1} - w_{1} x} + 1}} + 1\\right)^{2}}$"
      ],
      "text/plain": [
       "w2*w3*x*exp(-b1 - w1*x)*exp(-b2 - w2/(exp(-b1 - w1*x) + 1))/((exp(-b1 - w1*x) + 1)**2*(exp(-b2 - w2/(exp(-b1 - w1*x) + 1)) + 1)**2)"
      ]
     },
     "execution_count": 4,
     "metadata": {},
     "output_type": "execute_result"
    }
   ],
   "source": [
    "# much more complicated\n",
    "x,w1,w2,w3,b1,b2,b3 = symbols('x w1 w2 w3 b1 b2 b3')\n",
    "y = w3*sigmoid(w2*sigmoid(w1*x + b1) + b2) + b3\n",
    "diff(y, w1)"
   ]
  },
  {
   "cell_type": "code",
   "execution_count": 5,
   "id": "34f6d86b",
   "metadata": {},
   "outputs": [
    {
     "name": "stdout",
     "output_type": "stream",
     "text": [
      "w2*w3*x*exp(-b1 - w1*x)*exp(-b2 - w2/(exp(-b1 - w1*x) + 1))/((exp(-b1 - w1*x) + 1)**2*(exp(-b2 - w2/(exp(-b1 - w1*x) + 1)) + 1)**2)\n"
     ]
    }
   ],
   "source": [
    "dydw1 = diff(y, w1)\n",
    "print(dydw1)"
   ]
  },
  {
   "cell_type": "markdown",
   "id": "24bd6c26",
   "metadata": {},
   "source": [
    "# Automatic Differentiation\n",
    "\n",
    "Here we show the simplicity and efficiency of `autograd` from `numpy`."
   ]
  },
  {
   "cell_type": "code",
   "execution_count": 6,
   "id": "e0189094",
   "metadata": {},
   "outputs": [
    {
     "data": {
      "image/png": "[encoded data removed]",
      "text/plain": [
       "<Figure size 432x288 with 1 Axes>"
      ]
     },
     "metadata": {
      "needs_background": "light"
     },
     "output_type": "display_data"
    }
   ],
   "source": [
    "import autograd.numpy as np\n",
    "import matplotlib.pyplot as plt\n",
    "from autograd import elementwise_grad as egrad  # for functions that vectorize over inputs\n",
    "\n",
    "# We could use np.tanh, but let's write our own as an example.\n",
    "def tanh(x):\n",
    "    return (1.0 - np.exp(-x))  / (1.0 + np.exp(-x))\n",
    "\n",
    "x = np.linspace(-7, 7, 200)\n",
    "plt.plot(x, tanh(x),\n",
    "         x, egrad(tanh)(x),                                # first  derivative\n",
    "         x, egrad(egrad(tanh))(x),                          # second derivative\n",
    "         x, egrad(egrad(egrad(tanh)))(x),                    # third  derivative\n",
    "         x, egrad(egrad(egrad(egrad(tanh))))(x),              # fourth derivative\n",
    "         x, egrad(egrad(egrad(egrad(egrad(tanh)))))(x),        # fifth  derivative\n",
    "         x, egrad(egrad(egrad(egrad(egrad(egrad(tanh))))))(x))  # sixth  derivative\n",
    "\n",
    "plt.axis('off')\n",
    "plt.savefig(\"tanh.png\")\n",
    "plt.show()"
   ]
  },
  {
   "cell_type": "code",
   "execution_count": 7,
   "id": "020ad74d",
   "metadata": {},
   "outputs": [
    {
     "name": "stdout",
     "output_type": "stream",
     "text": [
      "0.39322386648296376 0.3932226889551027\n"
     ]
    }
   ],
   "source": [
    "from autograd import grad\n",
    "grad_tanh = grad(tanh)            # Obtain its gradient function\n",
    "gA = grad_tanh(1.0)               # Evaluate the gradient at x = 1.0\n",
    "gN = (tanh(1.01) - tanh(0.99)) / 0.02  # Compare to finite differences\n",
    "print(gA, gN)"
   ]
  },
  {
   "cell_type": "code",
   "execution_count": null,
   "id": "af619f04",
   "metadata": {},
   "outputs": [],
   "source": []
  }
 ],
 "metadata": {
  "kernelspec": {
   "display_name": "Python 3 (ipykernel)",
   "language": "python",
   "name": "python3"
  },
  "language_info": {
   "codemirror_mode": {
    "name": "ipython",
    "version": 3
   },
   "file_extension": ".py",
   "mimetype": "text/x-python",
   "name": "python",
   "nbconvert_exporter": "python",
   "pygments_lexer": "ipython3",
   "version": "3.10.9"
  }
 },
 "nbformat": 4,
 "nbformat_minor": 5
}
